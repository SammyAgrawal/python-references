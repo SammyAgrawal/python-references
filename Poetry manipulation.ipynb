{
 "cells": [
  {
   "cell_type": "code",
   "execution_count": 2,
   "metadata": {},
   "outputs": [],
   "source": [
    "from nltk.corpus import wordnet\n",
    "import random"
   ]
  },
  {
   "cell_type": "code",
   "execution_count": 2,
   "metadata": {},
   "outputs": [
    {
     "data": {
      "text/plain": [
       "['v', 'n']"
      ]
     },
     "execution_count": 2,
     "metadata": {},
     "output_type": "execute_result"
    }
   ],
   "source": [
    "def parts_of_speech(word):\n",
    "    sys = wordnet.synsets(word)\n",
    "    pos = []\n",
    "    for i in sys:\n",
    "        pos.append(i.pos())\n",
    "    return(list(set(pos)))\n",
    "parts_of_speech('cry')"
   ]
  },
  {
   "cell_type": "code",
   "execution_count": 3,
   "metadata": {},
   "outputs": [
    {
     "name": "stdout",
     "output_type": "stream",
     "text": [
      "['v', 'n']\n"
     ]
    },
    {
     "data": {
      "text/plain": [
       "True"
      ]
     },
     "execution_count": 3,
     "metadata": {},
     "output_type": "execute_result"
    }
   ],
   "source": [
    "print(parts_of_speech(\"chair\"))\n",
    "cry = parts_of_speech(\"cry\")\n",
    "\"n\" in cry"
   ]
  },
  {
   "cell_type": "code",
   "execution_count": 4,
   "metadata": {},
   "outputs": [
    {
     "data": {
      "text/plain": [
       "'dog-iron'"
      ]
     },
     "execution_count": 4,
     "metadata": {},
     "output_type": "execute_result"
    }
   ],
   "source": [
    "def getSyn(word, mypos='n'):\n",
    "    synonyms = []\n",
    "    system = wordnet.synsets(word, pos=mypos)\n",
    "    for sys in system:\n",
    "        for lem in sys.lemmas():\n",
    "            synonyms.append(lem.name())\n",
    "    synonyms = list(set(synonyms))\n",
    "    num = random.randint(0,len(synonyms)-1)\n",
    "    return(synonyms[num])\n",
    "getSyn('dog', 'n')"
   ]
  },
  {
   "cell_type": "code",
   "execution_count": 5,
   "metadata": {},
   "outputs": [],
   "source": [
    "def substitute_nouns(words):\n",
    "    collection = words.split()\n",
    "    story = []\n",
    "    for word in collection:\n",
    "        #if (word[-1] == ):\n",
    "        if(\"n\" in parts_of_speech(word)): # if the word could be a noun\n",
    "            word = getSyn(word,'n')\n",
    "        story.append(word)\n",
    "    return(\" \".join(story))"
   ]
  },
  {
   "cell_type": "code",
   "execution_count": 6,
   "metadata": {},
   "outputs": [
    {
     "data": {
      "text/plain": [
       "'testing out the computer_programme child'"
      ]
     },
     "execution_count": 6,
     "metadata": {},
     "output_type": "execute_result"
    }
   ],
   "source": [
    "substitute_nouns('testing out the program baby')"
   ]
  },
  {
   "cell_type": "code",
   "execution_count": 7,
   "metadata": {},
   "outputs": [],
   "source": [
    "def substitute_verbs(words):\n",
    "    collection = words.split()\n",
    "    story = []\n",
    "    for word in collection:\n",
    "        if(\"v\" in parts_of_speech(word)): # if the word could be a noun\n",
    "            word = getSyn(word,'v')\n",
    "        story.append(word)\n",
    "    return(\" \".join(story))"
   ]
  },
  {
   "cell_type": "code",
   "execution_count": 1,
   "metadata": {},
   "outputs": [
    {
     "ename": "NameError",
     "evalue": "name 'substitute_verbs' is not defined",
     "output_type": "error",
     "traceback": [
      "\u001b[0;31m---------------------------------------------------------------------------\u001b[0m",
      "\u001b[0;31mNameError\u001b[0m                                 Traceback (most recent call last)",
      "\u001b[0;32m<ipython-input-1-cd73045eb586>\u001b[0m in \u001b[0;36m<module>\u001b[0;34m()\u001b[0m\n\u001b[0;32m----> 1\u001b[0;31m \u001b[0msubstitute_verbs\u001b[0m\u001b[0;34m(\u001b[0m\u001b[0;34m\"run and hide lil boy\"\u001b[0m\u001b[0;34m)\u001b[0m\u001b[0;34m\u001b[0m\u001b[0m\n\u001b[0m",
      "\u001b[0;31mNameError\u001b[0m: name 'substitute_verbs' is not defined"
     ]
    }
   ],
   "source": [
    "substitute_verbs(\"run and hide lil boy\")"
   ]
  },
  {
   "cell_type": "code",
   "execution_count": null,
   "metadata": {},
   "outputs": [],
   "source": []
  },
  {
   "cell_type": "code",
   "execution_count": 9,
   "metadata": {},
   "outputs": [
    {
     "data": {
      "text/plain": [
       "'hi he said to the man'"
      ]
     },
     "execution_count": 9,
     "metadata": {},
     "output_type": "execute_result"
    }
   ],
   "source": [
    "def nopunct(string):\n",
    "    # define punctuation\n",
    "    punctuations = '''.!()-[]{};:'\"\\,<>./?@#$%^&*_~'''\n",
    "    no_punct = \"\"\n",
    "    for char in string:\n",
    "        if(char not in punctuations):\n",
    "            no_punct = no_punct + char\n",
    "    return(no_punct)\n",
    "\n",
    "nopunct(\"hi, he. said? to/ the man\")"
   ]
  },
  {
   "cell_type": "markdown",
   "metadata": {},
   "source": [
    "# Let's try it out!!"
   ]
  },
  {
   "cell_type": "code",
   "execution_count": 11,
   "metadata": {},
   "outputs": [],
   "source": [
    "text = \"\"\"\n",
    "There was an ancient city, Carthage (held by colonists from Tyre),\n",
    "\n",
    "opposite Italy, and the far-off mouths of the Tiber,\n",
    "\n",
    "rich in wealth, and very savage in pursuit of war.\n",
    "\n",
    "They say Juno loved this one land above all others,\n",
    "\n",
    "even neglecting Samos: here were her weapons\n",
    "\n",
    "and her chariot, even then the goddess worked at,\n",
    "\n",
    "and cherished, the idea that it should have supremacy\n",
    "\n",
    "over the nations, if only the fates allowed.\n",
    "\n",
    "Yet she’d heard of offspring, derived from Trojan blood,\n",
    "\n",
    "that would one day overthrow the Tyrian stronghold:\n",
    "\n",
    "that from them a people would come, wide-ruling,\n",
    "\n",
    "and proud in war, to Libya’s ruin: so the Fates ordained.\n",
    "\n",
    "Fearing this, and remembering the ancient war\n",
    "\n",
    "she had fought before, at Troy, for her dear Argos,\n",
    "\n",
    "(and the cause of her anger and bitter sorrows\n",
    "\n",
    "had not yet passed from her mind: the distant judgement\n",
    "\n",
    "of Paris stayed deep in her heart, the injury to her scorned beauty,\n",
    "\n",
    "her hatred of the race, and abducted Ganymede’s honours)\n",
    "\n",
    "the daughter of Saturn, incited further by this,\n",
    "\n",
    "hurled the Trojans, the Greeks and pitiless Achilles had left,\n",
    "\n",
    "round the whole ocean, keeping them far from Latium:\n",
    "\n",
    "they wandered for many years, driven by fate over all the seas.\n",
    "\n",
    "Such an effort it was to found the Roman people.\n",
    "\n",
    "They were hardly out of sight of Sicily’s isle, in deeper water,\n",
    "\n",
    "joyfully spreading sail, bronze keel ploughing the brine,\n",
    "\n",
    "when Juno, nursing the eternal wound in her breast,\n",
    "\n",
    "spoke to herself: ‘Am I to abandon my purpose, conquered,\n",
    "\n",
    "unable to turn the Teucrian king away from Italy!\n",
    "\n",
    "Why, the fates forbid it. Wasn’t Pallas able to burn\n",
    "\n",
    "the Argive fleet, to sink it in the sea, because of the guilt\n",
    "\n",
    "and madness of one single man, Ajax, son of Oileus?\n",
    "\n",
    "She herself hurled Jupiter’s swift fire from the clouds,\n",
    "\n",
    "scattered the ships, and made the sea boil with storms:\n",
    "\n",
    "She caught him up in a water-spout, as he breathed flame\n",
    "\n",
    "from his pierced chest, and pinned him to a sharp rock:\n",
    "\n",
    "yet I, who walk about as queen of the gods, wife\n",
    "\n",
    "and sister of Jove, wage war on a whole race, for so many years.\n",
    "\n",
    "Indeed, will anyone worship Juno’s power from now on,\n",
    "\n",
    "or place offerings, humbly, on her altars?’\n",
    "\n",
    "\"\"\"\n",
    "text = nopunct(text)"
   ]
  },
  {
   "cell_type": "code",
   "execution_count": 12,
   "metadata": {},
   "outputs": [
    {
     "data": {
      "text/plain": [
       "'there WA Associate_in_Nursing antediluvian urban_center Carthage held by colonist from Tyre opposite_word Italian_Republic and the faroff mouthpiece of the Tevere rich Indiana wealth and very wildcat inch pursual of war They say Juno loved this I realm above all others evening neglecting Samos here were her arm and her chariot evening then the goddess worked at and cherished the estimate that information_technology should have domination over the body_politic if only the fortune allowed Yet she’d heard of offspring derived from trojan_horse parentage that would ace mean_solar_day overthrow the Tyrian stronghold that from them angstrom masses would seed wideruling and proud atomic_number_49 war to Libya’s ruining sol the lot ordained Fearing this and memory the antediluvian warfare she had fought before at Troy for her dearest Argo and the crusade of her choler and bitterness sorrowfulness had not yet passed from her head the distant perspicacity of genus_Paris stayed deep indium her bosom the combat_injury to her scorned lulu her hatred of the airstream and abducted Ganymede’s purity the daughter of Saturn incited further by this hurled the Trojan the Greek and pitiless Achilles had left_field beat the unit sea guardianship them ALIR from Lazio they wandered for many twelvemonth driven by fate over all the ocean Such Associate_in_Nursing try IT Washington to found the roman_type people They were hardly out of flock of Sicily’s islet Hoosier_State deeper urine joyfully dissemination canvas bronze keel plowing the seawater when Juno breast_feeding the eternal lesion In her titty rundle to herself ‘Am one to wildness my determination conquered unable to tour the Teucrian queen away from Italia why the portion forbid IT Wasn’t Pallas_Athena able to sunburn the Argive fleet to cesspit information_technology In the ocean because of the guiltiness and rage of single single piece Ajax Word of Oileus She herself hurled Jupiter’s Jonathan_Swift firing from the swarm scattered the ship and made the ocean boil with storm She caught him up atomic_number_49 adenine torrent amp He breathed flame from his pierced bureau and pinned him to a sharp rock_candy yet unity World_Health_Organization walkway about group_A nance of the immortal married_woman and babe of Jove salary state_of_war on antiophthalmic_factor whole wash for so many old_age Indeed testament anyone adoration Juno’s superpower from now on operating_room shoes offering humbly on her altars’'"
      ]
     },
     "execution_count": 12,
     "metadata": {},
     "output_type": "execute_result"
    }
   ],
   "source": [
    "substitute_nouns(text)"
   ]
  },
  {
   "cell_type": "code",
   "execution_count": null,
   "metadata": {},
   "outputs": [],
   "source": []
  },
  {
   "cell_type": "code",
   "execution_count": null,
   "metadata": {},
   "outputs": [],
   "source": []
  },
  {
   "cell_type": "markdown",
   "metadata": {},
   "source": [
    "# How synonym works"
   ]
  },
  {
   "cell_type": "code",
   "execution_count": 1,
   "metadata": {},
   "outputs": [],
   "source": [
    "from nltk.corpus import wordnet \n",
    "synonyms = [] \n",
    "antonyms = [] "
   ]
  },
  {
   "cell_type": "code",
   "execution_count": 106,
   "metadata": {
    "scrolled": true
   },
   "outputs": [
    {
     "data": {
      "text/plain": [
       "[Synset('good.a.01'),\n",
       " Synset('full.s.06'),\n",
       " Synset('good.a.03'),\n",
       " Synset('estimable.s.02'),\n",
       " Synset('beneficial.s.01'),\n",
       " Synset('good.s.06'),\n",
       " Synset('good.s.07'),\n",
       " Synset('adept.s.01'),\n",
       " Synset('good.s.09'),\n",
       " Synset('dear.s.02'),\n",
       " Synset('dependable.s.04'),\n",
       " Synset('good.s.12'),\n",
       " Synset('good.s.13'),\n",
       " Synset('effective.s.04'),\n",
       " Synset('good.s.15'),\n",
       " Synset('good.s.16'),\n",
       " Synset('good.s.17'),\n",
       " Synset('good.s.18'),\n",
       " Synset('good.s.19'),\n",
       " Synset('good.s.20'),\n",
       " Synset('good.s.21')]"
      ]
     },
     "execution_count": 106,
     "metadata": {},
     "output_type": "execute_result"
    }
   ],
   "source": [
    "system = wordnet.synsets('good', pos='s')\n",
    "system"
   ]
  },
  {
   "cell_type": "code",
   "execution_count": 109,
   "metadata": {},
   "outputs": [
    {
     "data": {
      "text/plain": [
       "Synset('good.a.01')"
      ]
     },
     "execution_count": 109,
     "metadata": {},
     "output_type": "execute_result"
    }
   ],
   "source": [
    "system[0]"
   ]
  },
  {
   "cell_type": "code",
   "execution_count": 24,
   "metadata": {},
   "outputs": [
    {
     "data": {
      "text/plain": [
       "'n'"
      ]
     },
     "execution_count": 24,
     "metadata": {},
     "output_type": "execute_result"
    }
   ],
   "source": [
    "system[0].pos() #part of speech"
   ]
  },
  {
   "cell_type": "code",
   "execution_count": 29,
   "metadata": {},
   "outputs": [
    {
     "name": "stdout",
     "output_type": "stream",
     "text": [
      "Lemma('good.a.01.good')\n",
      "Lemma('full.s.06.full')\n",
      "Lemma('full.s.06.good')\n",
      "Lemma('good.a.03.good')\n",
      "Lemma('estimable.s.02.estimable')\n",
      "Lemma('estimable.s.02.good')\n",
      "Lemma('estimable.s.02.honorable')\n",
      "Lemma('estimable.s.02.respectable')\n",
      "Lemma('beneficial.s.01.beneficial')\n",
      "Lemma('beneficial.s.01.good')\n",
      "Lemma('good.s.06.good')\n",
      "Lemma('good.s.07.good')\n",
      "Lemma('good.s.07.just')\n",
      "Lemma('good.s.07.upright')\n",
      "Lemma('adept.s.01.adept')\n",
      "Lemma('adept.s.01.expert')\n",
      "Lemma('adept.s.01.good')\n",
      "Lemma('adept.s.01.practiced')\n",
      "Lemma('adept.s.01.proficient')\n",
      "Lemma('adept.s.01.skillful')\n",
      "Lemma('adept.s.01.skilful')\n",
      "Lemma('good.s.09.good')\n",
      "Lemma('dear.s.02.dear')\n",
      "Lemma('dear.s.02.good')\n",
      "Lemma('dear.s.02.near')\n",
      "Lemma('dependable.s.04.dependable')\n",
      "Lemma('dependable.s.04.good')\n",
      "Lemma('dependable.s.04.safe')\n",
      "Lemma('dependable.s.04.secure')\n",
      "Lemma('good.s.12.good')\n",
      "Lemma('good.s.12.right')\n",
      "Lemma('good.s.12.ripe')\n",
      "Lemma('good.s.13.good')\n",
      "Lemma('good.s.13.well')\n",
      "Lemma('effective.s.04.effective')\n",
      "Lemma('effective.s.04.good')\n",
      "Lemma('effective.s.04.in_effect')\n",
      "Lemma('effective.s.04.in_force')\n",
      "Lemma('good.s.15.good')\n",
      "Lemma('good.s.16.good')\n",
      "Lemma('good.s.16.serious')\n",
      "Lemma('good.s.17.good')\n",
      "Lemma('good.s.17.sound')\n",
      "Lemma('good.s.18.good')\n",
      "Lemma('good.s.18.salutary')\n",
      "Lemma('good.s.19.good')\n",
      "Lemma('good.s.19.honest')\n",
      "Lemma('good.s.20.good')\n",
      "Lemma('good.s.20.undecomposed')\n",
      "Lemma('good.s.20.unspoiled')\n",
      "Lemma('good.s.20.unspoilt')\n",
      "Lemma('good.s.21.good')\n"
     ]
    }
   ],
   "source": [
    "for sys in system:\n",
    "    for lem in sys.lemmas():\n",
    "        print(lem)\n",
    "        synonyms.append(lem.name())"
   ]
  },
  {
   "cell_type": "code",
   "execution_count": 10,
   "metadata": {},
   "outputs": [
    {
     "data": {
      "text/plain": [
       "{'adept',\n",
       " 'beneficial',\n",
       " 'commodity',\n",
       " 'dear',\n",
       " 'dependable',\n",
       " 'effective',\n",
       " 'estimable',\n",
       " 'expert',\n",
       " 'full',\n",
       " 'good',\n",
       " 'goodness',\n",
       " 'honest',\n",
       " 'honorable',\n",
       " 'in_effect',\n",
       " 'in_force',\n",
       " 'just',\n",
       " 'near',\n",
       " 'practiced',\n",
       " 'proficient',\n",
       " 'respectable',\n",
       " 'right',\n",
       " 'ripe',\n",
       " 'safe',\n",
       " 'salutary',\n",
       " 'secure',\n",
       " 'serious',\n",
       " 'skilful',\n",
       " 'skillful',\n",
       " 'sound',\n",
       " 'soundly',\n",
       " 'thoroughly',\n",
       " 'trade_good',\n",
       " 'undecomposed',\n",
       " 'unspoiled',\n",
       " 'unspoilt',\n",
       " 'upright',\n",
       " 'well'}"
      ]
     },
     "execution_count": 10,
     "metadata": {},
     "output_type": "execute_result"
    }
   ],
   "source": [
    "set(synonyms)"
   ]
  },
  {
   "cell_type": "code",
   "execution_count": null,
   "metadata": {},
   "outputs": [],
   "source": []
  },
  {
   "cell_type": "code",
   "execution_count": null,
   "metadata": {},
   "outputs": [],
   "source": []
  },
  {
   "cell_type": "code",
   "execution_count": 59,
   "metadata": {},
   "outputs": [
    {
     "data": {
      "text/plain": [
       "[1, 2, 7, 8, 45, 93]"
      ]
     },
     "execution_count": 59,
     "metadata": {},
     "output_type": "execute_result"
    }
   ],
   "source": [
    "list(set([1,1,2,45,7,8,93,8,2]))"
   ]
  },
  {
   "cell_type": "code",
   "execution_count": 155,
   "metadata": {},
   "outputs": [
    {
     "data": {
      "text/plain": [
       "'ge ar gf  ae'"
      ]
     },
     "execution_count": 155,
     "metadata": {},
     "output_type": "execute_result"
    }
   ],
   "source": [
    "li= \"ge ar gf, ae\".split(',')\n",
    "\" \".join(li)\n",
    "#for word in li.split():\n",
    "#    print(word)"
   ]
  },
  {
   "cell_type": "code",
   "execution_count": 80,
   "metadata": {},
   "outputs": [
    {
     "data": {
      "text/plain": [
       "'spell a word'"
      ]
     },
     "execution_count": 80,
     "metadata": {},
     "output_type": "execute_result"
    }
   ],
   "source": [
    "' '.join(['spell', 'a', 'word'])"
   ]
  },
  {
   "cell_type": "code",
   "execution_count": 156,
   "metadata": {},
   "outputs": [
    {
     "data": {
      "text/plain": [
       "'n'"
      ]
     },
     "execution_count": 156,
     "metadata": {},
     "output_type": "execute_result"
    }
   ],
   "source": []
  },
  {
   "cell_type": "code",
   "execution_count": null,
   "metadata": {},
   "outputs": [],
   "source": []
  }
 ],
 "metadata": {
  "kernelspec": {
   "display_name": "Python 3",
   "language": "python",
   "name": "python3"
  },
  "language_info": {
   "codemirror_mode": {
    "name": "ipython",
    "version": 3
   },
   "file_extension": ".py",
   "mimetype": "text/x-python",
   "name": "python",
   "nbconvert_exporter": "python",
   "pygments_lexer": "ipython3",
   "version": "3.6.5"
  }
 },
 "nbformat": 4,
 "nbformat_minor": 2
}
