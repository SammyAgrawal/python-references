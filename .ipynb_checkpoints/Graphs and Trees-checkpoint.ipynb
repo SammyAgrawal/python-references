{
 "cells": [
  {
   "cell_type": "markdown",
   "metadata": {},
   "source": [
    "# Graphs are structures represented by nodes/vertices and edges"
   ]
  },
  {
   "cell_type": "markdown",
   "metadata": {},
   "source": [
    "https://www.python.org/doc/essays/graphs/"
   ]
  },
  {
   "cell_type": "code",
   "execution_count": 2,
   "metadata": {},
   "outputs": [
    {
     "name": "stdout",
     "output_type": "stream",
     "text": [
      "Vertices of Graph\n",
      "['a', 'b', 'c', 'd', 'e', 'f']\n",
      "Edges of Graph\n",
      "[('a', 'c', 20), ('a', 'e', 10), ('b', 'c', 30), ('b', 'e', 40), ('c', 'a', 20), ('c', 'b', 30), ('d', 'e', 50), ('e', 'a', 10), ('e', 'b', 40), ('e', 'd', 50), ('e', 'f', 60), ('f', 'e', 60)]\n",
      "Adjacency Matrix of Graph\n",
      "[[-1, -1, 20, -1, 10, -1], [-1, -1, 30, -1, 40, -1], [20, 30, -1, -1, -1, -1], [-1, -1, -1, -1, 50, -1], [10, 40, -1, 50, -1, 60], [-1, -1, -1, -1, 60, -1]]\n"
     ]
    }
   ],
   "source": [
    "class Graph:\n",
    "    def __init__(self,numvertex):\n",
    "        self.adjMatrix = [[-1]*numvertex for x in range(numvertex)] #nxn list\n",
    "        self.numvertex = numvertex\n",
    "        self.vertices = {}\n",
    "        self.verticeslist =[0]*numvertex\n",
    "\n",
    "    def set_vertex(self,vtx,id): # vtx is int num, id is name\n",
    "        if 0<=vtx<=self.numvertex:\n",
    "            self.vertices[id] = vtx #{id:vtx}\n",
    "            self.verticeslist[vtx] = id\n",
    "\n",
    "    def set_edge(self,frm,to,cost=0):\n",
    "        frm = self.vertices[frm] #gets vtx num\n",
    "        to = self.vertices[to]\n",
    "        self.adjMatrix[frm][to] = cost\n",
    "        #for directed graph do not add this\n",
    "        #self.adjMatrix[to][frm] = cost\n",
    "\n",
    "    def get_vertex(self):\n",
    "        return self.verticeslist\n",
    "\n",
    "    def get_edges(self):\n",
    "        edges=[]\n",
    "        for i in range (self.numvertex):\n",
    "            for j in range (self.numvertex):\n",
    "                if (self.adjMatrix[i][j]!=-1):\n",
    "                    edges.append((self.verticeslist[i],self.verticeslist[j],self.adjMatrix[i][j]))\n",
    "        return edges\n",
    "        \n",
    "    def get_matrix(self):\n",
    "        return self.adjMatrix\n",
    "\n",
    "G =Graph(6)\n",
    "G.set_vertex(0,'a')\n",
    "G.set_vertex(1,'b')\n",
    "G.set_vertex(2,'c')\n",
    "G.set_vertex(3,'d')\n",
    "G.set_vertex(4,'e')\n",
    "G.set_vertex(5,'f')\n",
    "G.set_edge('a','e',10)\n",
    "G.set_edge('a','c',20)\n",
    "G.set_edge('c','b',30)\n",
    "G.set_edge('b','e',40)\n",
    "G.set_edge('e','d',50)\n",
    "G.set_edge('f','e',60)\n"
   ]
  },
  {
   "cell_type": "code",
   "execution_count": 3,
   "metadata": {},
   "outputs": [
    {
     "name": "stdout",
     "output_type": "stream",
     "text": [
      "Vertices of Graph\n",
      "['a', 'b', 'c', 'd', 'e', 'f']\n",
      "Edges of Graph\n",
      "[('a', 'c', 20), ('a', 'e', 10), ('b', 'c', 30), ('b', 'e', 40), ('c', 'a', 20), ('c', 'b', 30), ('d', 'e', 50), ('e', 'a', 10), ('e', 'b', 40), ('e', 'd', 50), ('e', 'f', 60), ('f', 'e', 60)]\n",
      "Adjacency Matrix of Graph\n",
      "[[-1, -1, 20, -1, 10, -1], [-1, -1, 30, -1, 40, -1], [20, 30, -1, -1, -1, -1], [-1, -1, -1, -1, 50, -1], [10, 40, -1, 50, -1, 60], [-1, -1, -1, -1, 60, -1]]\n"
     ]
    }
   ],
   "source": [
    "print(\"Vertices of Graph\")\n",
    "print(G.get_vertex())\n",
    "print(\"Edges of Graph\")\n",
    "print(G.get_edges())\n",
    "print(\"Adjacency Matrix of Graph\")\n",
    "print(G.get_matrix())"
   ]
  },
  {
   "cell_type": "markdown",
   "metadata": {},
   "source": []
  },
  {
   "cell_type": "markdown",
   "metadata": {},
   "source": [
    "## Dictionary-based graph\n",
    "key is vertex\n",
    "\n",
    "value is list of all connections"
   ]
  },
  {
   "cell_type": "code",
   "execution_count": 26,
   "metadata": {},
   "outputs": [],
   "source": [
    "graph = {\n",
    "    1: [2,3,6],\n",
    "    2:[4,5],\n",
    "    3:[1,2,4],\n",
    "    4:[5,6],\n",
    "    5:[2,4,1],\n",
    "    6:[1,2],\n",
    "}\n",
    "#find path from 3 to 6"
   ]
  },
  {
   "cell_type": "code",
   "execution_count": 16,
   "metadata": {},
   "outputs": [
    {
     "data": {
      "text/plain": [
       "[1, 2]"
      ]
     },
     "execution_count": 16,
     "metadata": {},
     "output_type": "execute_result"
    }
   ],
   "source": [
    "graph = {1: [2], 3: [2]}\n",
    "def fpath(start, end, path=[]):\n",
    "    path.append(start)\n",
    "    if (start==end or end in path):return path\n",
    "    if start not in graph: return None\n",
    "    links = graph[start]\n",
    "    if (end in links):\n",
    "        path.append(end)\n",
    "        return path\n",
    "    for link in links:\n",
    "        if link not in path: \n",
    "            newpath = find_path(link,end,path)\n",
    "            if newpath: return newpath\n",
    "    return None\n",
    "        \n",
    "find_path(1,2,[])"
   ]
  },
  {
   "cell_type": "code",
   "execution_count": 28,
   "metadata": {},
   "outputs": [
    {
     "data": {
      "text/plain": [
       "{'gbbuq': 3,\n",
       " 'wzqfj': 2,\n",
       " 'ptnsn': 3,\n",
       " 'afadr': 1,\n",
       " 'ljjiv': 1,\n",
       " 'wmdkq': 1,\n",
       " 'bxixm': 2,\n",
       " 'trrbl': 1}"
      ]
     },
     "execution_count": 28,
     "metadata": {},
     "output_type": "execute_result"
    }
   ],
   "source": [
    "populations = {\n",
    "    1: [\"gbbuq\"],\n",
    "    2: \"wzqfj ptnsn afadr\".split(),\n",
    "    3: \"gbbuq ljjiv\".split(),\n",
    "    4: \"ptnsn\".split(),\n",
    "    5: [],\n",
    "    6: \"wmdkq gbbuq\".split(),\n",
    "    7: \"wzqfj ptnsn\".split(),\n",
    "    8: \"bxixm\".split(),\n",
    "    9: \"trrbl bxixm\".split(),\n",
    "}\n",
    "traits={}\n",
    "for i in populations:\n",
    "    for trait in populations[i]:\n",
    "        if trait not in traits:\n",
    "            traits[trait] = 1\n",
    "        else:\n",
    "            traits[trait] +=1\n",
    "traits"
   ]
  },
  {
   "cell_type": "code",
   "execution_count": 27,
   "metadata": {},
   "outputs": [
    {
     "name": "stdout",
     "output_type": "stream",
     "text": [
      "[1, 2]\n"
     ]
    }
   ],
   "source": [
    "a=[1]\n",
    "a.append(2)\n",
    "print(a)"
   ]
  },
  {
   "cell_type": "code",
   "execution_count": 132,
   "metadata": {},
   "outputs": [],
   "source": [
    "s = \"7 AA BB\\nMOTHER AA\\nGGMOTHER BB\\nMOTHER SISTER\\nGMOTHER MOTHER\\nGMOTHER AUNT\\nAUNT COUSIN\\nGGMOTHER GMOTHER\".split(\"\\n\")"
   ]
  },
  {
   "cell_type": "code",
   "execution_count": 58,
   "metadata": {},
   "outputs": [
    {
     "name": "stdout",
     "output_type": "stream",
     "text": [
      "7\n"
     ]
    },
    {
     "data": {
      "text/plain": [
       "['AA', 'BB']"
      ]
     },
     "execution_count": 58,
     "metadata": {},
     "output_type": "execute_result"
    }
   ],
   "source": [
    "print(N)\n",
    "targets"
   ]
  },
  {
   "cell_type": "code",
   "execution_count": 152,
   "metadata": {},
   "outputs": [],
   "source": [
    "class Member():\n",
    "    def __init__(self, name, relation=None, mother=None, child=None):\n",
    "        self.name=name\n",
    "        self.relation = \"\"\n",
    "        self.mother = mother\n",
    "        self.children = []\n",
    "        \n",
    "        self.addChild(child)\n",
    "        \n",
    "    def setMother(self,mom):\n",
    "        if mom:\n",
    "            self.mother=mom\n",
    "        \n",
    "    def addChild(self,child):\n",
    "        if (child not in self.children and child is not None):\n",
    "            self.children.append(child)\n",
    "            \n",
    "    def __str__(self):\n",
    "        return(self.name)\n",
    "    def __nonzero__(self):\n",
    "        return bool(self.name)\n",
    "        "
   ]
  },
  {
   "cell_type": "code",
   "execution_count": 148,
   "metadata": {},
   "outputs": [],
   "source": [
    "sam = Member(name=\"sammy\")\n",
    "rashmi = Member(name=\"rashmi\", relation=\"Mother\")\n",
    "rashmi.addChild(sam)\n",
    "sam.setMother(rashmi)"
   ]
  },
  {
   "cell_type": "code",
   "execution_count": 149,
   "metadata": {},
   "outputs": [
    {
     "data": {
      "text/plain": [
       "'rashmi'"
      ]
     },
     "execution_count": 149,
     "metadata": {},
     "output_type": "execute_result"
    }
   ],
   "source": [
    "rashmi.children[0].mother.name"
   ]
  },
  {
   "cell_type": "code",
   "execution_count": null,
   "metadata": {},
   "outputs": [],
   "source": []
  },
  {
   "cell_type": "code",
   "execution_count": null,
   "metadata": {},
   "outputs": [],
   "source": []
  },
  {
   "cell_type": "code",
   "execution_count": 133,
   "metadata": {},
   "outputs": [
    {
     "data": {
      "text/plain": [
       "[['MOTHER', 'AA'],\n",
       " ['GGMOTHER', 'BB'],\n",
       " ['MOTHER', 'SISTER'],\n",
       " ['GMOTHER', 'MOTHER'],\n",
       " ['GMOTHER', 'AUNT'],\n",
       " ['AUNT', 'COUSIN'],\n",
       " ['GGMOTHER', 'GMOTHER']]"
      ]
     },
     "execution_count": 133,
     "metadata": {},
     "output_type": "execute_result"
    }
   ],
   "source": [
    "relations = [i.split() for i in s]\n",
    "N = relations[0][0] #7\n",
    "targets = relations[0][1:]\n",
    "relations=relations[1:]\n",
    "relations"
   ]
  },
  {
   "cell_type": "code",
   "execution_count": 134,
   "metadata": {},
   "outputs": [
    {
     "name": "stdout",
     "output_type": "stream",
     "text": [
      "['AA', 'BB']\n"
     ]
    }
   ],
   "source": [
    "print(targets)"
   ]
  },
  {
   "cell_type": "code",
   "execution_count": 62,
   "metadata": {},
   "outputs": [],
   "source": [
    "root = Member(name=targets[0], relation=\"root\")"
   ]
  },
  {
   "cell_type": "code",
   "execution_count": 150,
   "metadata": {},
   "outputs": [
    {
     "data": {
      "text/plain": [
       "<__main__.Member at 0x107cd7f50>"
      ]
     },
     "execution_count": 150,
     "metadata": {},
     "output_type": "execute_result"
    }
   ],
   "source": [
    "family = {root.name:root}\n",
    "family[\"AA\"]"
   ]
  },
  {
   "cell_type": "code",
   "execution_count": null,
   "metadata": {},
   "outputs": [],
   "source": [
    "finished=[]\n",
    "lst=list(range(10))\n",
    "lst"
   ]
  },
  {
   "cell_type": "code",
   "execution_count": null,
   "metadata": {},
   "outputs": [],
   "source": []
  },
  {
   "cell_type": "code",
   "execution_count": 151,
   "metadata": {},
   "outputs": [
    {
     "ename": "SyntaxError",
     "evalue": "unexpected EOF while parsing (<ipython-input-151-ce77de084a4f>, line 9)",
     "output_type": "error",
     "traceback": [
      "\u001b[0;36m  File \u001b[0;32m\"<ipython-input-151-ce77de084a4f>\"\u001b[0;36m, line \u001b[0;32m9\u001b[0m\n\u001b[0;31m    elif (child in family):\u001b[0m\n\u001b[0m                           ^\u001b[0m\n\u001b[0;31mSyntaxError\u001b[0m\u001b[0;31m:\u001b[0m unexpected EOF while parsing\n"
     ]
    }
   ],
   "source": [
    "skipped=[]\n",
    "for i in relations:\n",
    "    parent, child= i\n",
    "    if (parent in family and child in family):\n",
    "        family[parent].addChild(family[child])\n",
    "        family[child].setMother(family[parent])\n",
    "    elif (parent in family):\n",
    "        family[child] = Member(name=child, mother=family[parent])\n",
    "        family[parent].addChild(family[child])\n",
    "    elif (child in family):\n",
    "        family[parent] = Member(name=parent, children=child)"
   ]
  },
  {
   "cell_type": "code",
   "execution_count": null,
   "metadata": {},
   "outputs": [],
   "source": []
  },
  {
   "cell_type": "code",
   "execution_count": 66,
   "metadata": {},
   "outputs": [],
   "source": [
    "a = set()"
   ]
  },
  {
   "cell_type": "code",
   "execution_count": 71,
   "metadata": {},
   "outputs": [],
   "source": [
    "a.add(1)\n",
    "a.add(1)"
   ]
  },
  {
   "cell_type": "code",
   "execution_count": 72,
   "metadata": {},
   "outputs": [
    {
     "data": {
      "text/plain": [
       "{1}"
      ]
     },
     "execution_count": 72,
     "metadata": {},
     "output_type": "execute_result"
    }
   ],
   "source": [
    "a"
   ]
  },
  {
   "cell_type": "code",
   "execution_count": null,
   "metadata": {},
   "outputs": [],
   "source": []
  },
  {
   "cell_type": "code",
   "execution_count": 15,
   "metadata": {},
   "outputs": [
    {
     "data": {
      "text/plain": [
       "True"
      ]
     },
     "execution_count": 15,
     "metadata": {},
     "output_type": "execute_result"
    }
   ],
   "source": [
    "bool(5)\n",
    "#https://docs.python.org/2/reference/datamodel.html#object.__nonzero__"
   ]
  },
  {
   "cell_type": "code",
   "execution_count": 18,
   "metadata": {},
   "outputs": [
    {
     "data": {
      "text/plain": [
       "False"
      ]
     },
     "execution_count": 18,
     "metadata": {},
     "output_type": "execute_result"
    }
   ],
   "source": [
    "bool([])"
   ]
  },
  {
   "cell_type": "code",
   "execution_count": 61,
   "metadata": {},
   "outputs": [
    {
     "data": {
      "text/plain": [
       "False"
      ]
     },
     "execution_count": 61,
     "metadata": {},
     "output_type": "execute_result"
    }
   ],
   "source": [
    "bool([])"
   ]
  },
  {
   "cell_type": "code",
   "execution_count": 20,
   "metadata": {},
   "outputs": [],
   "source": [
    "class amIReal():\n",
    "    def __init__(self, val):\n",
    "        self.val=val\n",
    "    def __nonzero__(self):\n",
    "        return self.val % 2==0\n",
    "# if even val, object 'exists' in bool() and if statements"
   ]
  },
  {
   "cell_type": "code",
   "execution_count": 23,
   "metadata": {},
   "outputs": [
    {
     "name": "stdout",
     "output_type": "stream",
     "text": [
      "8\n"
     ]
    }
   ],
   "source": [
    "real = amIReal(6)\n",
    "bool(real)\n",
    "if (real):\n",
    "    print(8)"
   ]
  },
  {
   "cell_type": "code",
   "execution_count": 24,
   "metadata": {},
   "outputs": [
    {
     "name": "stdout",
     "output_type": "stream",
     "text": [
      "twas real\n"
     ]
    }
   ],
   "source": [
    "fake = amIReal(9)\n",
    "if (fake):\n",
    "    print('twas real')\n",
    "else:\n",
    "    print(\"'twas not\")"
   ]
  },
  {
   "cell_type": "code",
   "execution_count": 41,
   "metadata": {},
   "outputs": [],
   "source": [
    "left = ['a',1,2,3,4]\n",
    "left.remove('a')"
   ]
  },
  {
   "cell_type": "code",
   "execution_count": 42,
   "metadata": {},
   "outputs": [
    {
     "data": {
      "text/plain": [
       "[1, 2, 3, 4]"
      ]
     },
     "execution_count": 42,
     "metadata": {},
     "output_type": "execute_result"
    }
   ],
   "source": [
    "left"
   ]
  },
  {
   "cell_type": "code",
   "execution_count": 49,
   "metadata": {},
   "outputs": [],
   "source": [
    "lst = list(range(50))"
   ]
  },
  {
   "cell_type": "code",
   "execution_count": 50,
   "metadata": {},
   "outputs": [
    {
     "name": "stdout",
     "output_type": "stream",
     "text": [
      "0\n",
      "16\n",
      "32\n",
      "48\n"
     ]
    },
    {
     "ename": "ValueError",
     "evalue": "list.remove(x): x not in list",
     "output_type": "error",
     "traceback": [
      "\u001b[0;31m---------------------------------------------------------------------------\u001b[0m",
      "\u001b[0;31mValueError\u001b[0m                                Traceback (most recent call last)",
      "\u001b[0;32m<ipython-input-50-c836006acdb5>\u001b[0m in \u001b[0;36m<module>\u001b[0;34m\u001b[0m\n\u001b[1;32m      2\u001b[0m     \u001b[0mprint\u001b[0m\u001b[0;34m(\u001b[0m\u001b[0mi\u001b[0m\u001b[0;34m)\u001b[0m\u001b[0;34m\u001b[0m\u001b[0;34m\u001b[0m\u001b[0m\n\u001b[1;32m      3\u001b[0m     \u001b[0;32mfor\u001b[0m \u001b[0mj\u001b[0m \u001b[0;32min\u001b[0m \u001b[0mrange\u001b[0m\u001b[0;34m(\u001b[0m\u001b[0mi\u001b[0m\u001b[0;34m,\u001b[0m\u001b[0mi\u001b[0m\u001b[0;34m+\u001b[0m\u001b[0;36m15\u001b[0m\u001b[0;34m)\u001b[0m\u001b[0;34m:\u001b[0m\u001b[0;34m\u001b[0m\u001b[0;34m\u001b[0m\u001b[0m\n\u001b[0;32m----> 4\u001b[0;31m         \u001b[0mlst\u001b[0m\u001b[0;34m.\u001b[0m\u001b[0mremove\u001b[0m\u001b[0;34m(\u001b[0m\u001b[0mj\u001b[0m\u001b[0;34m)\u001b[0m\u001b[0;34m\u001b[0m\u001b[0;34m\u001b[0m\u001b[0m\n\u001b[0m",
      "\u001b[0;31mValueError\u001b[0m: list.remove(x): x not in list"
     ]
    }
   ],
   "source": [
    "for i in lst:\n",
    "    print(i)\n",
    "    for j in range(i,i+15):\n",
    "        lst.remove(j)"
   ]
  },
  {
   "cell_type": "code",
   "execution_count": 54,
   "metadata": {},
   "outputs": [
    {
     "ename": "ValueError",
     "evalue": "list.remove(x): x not in list",
     "output_type": "error",
     "traceback": [
      "\u001b[0;31m---------------------------------------------------------------------------\u001b[0m",
      "\u001b[0;31mValueError\u001b[0m                                Traceback (most recent call last)",
      "\u001b[0;32m<ipython-input-54-f1faa1833d64>\u001b[0m in \u001b[0;36m<module>\u001b[0;34m\u001b[0m\n\u001b[0;32m----> 1\u001b[0;31m \u001b[0mlst\u001b[0m\u001b[0;34m.\u001b[0m\u001b[0mremove\u001b[0m\u001b[0;34m(\u001b[0m\u001b[0;36m1\u001b[0m\u001b[0;34m)\u001b[0m\u001b[0;34m\u001b[0m\u001b[0;34m\u001b[0m\u001b[0m\n\u001b[0m",
      "\u001b[0;31mValueError\u001b[0m: list.remove(x): x not in list"
     ]
    }
   ],
   "source": [
    "lst.remove(1)"
   ]
  },
  {
   "cell_type": "code",
   "execution_count": 57,
   "metadata": {},
   "outputs": [
    {
     "name": "stdout",
     "output_type": "stream",
     "text": [
      "0\n",
      "1\n",
      "2\n",
      "3\n",
      "4\n",
      "5\n",
      "6\n",
      "7\n",
      "8\n",
      "9\n"
     ]
    }
   ],
   "source": [
    "for j in range(10):\n",
    "    for i in range(10):\n",
    "        break\n",
    "    print(j)"
   ]
  },
  {
   "cell_type": "code",
   "execution_count": null,
   "metadata": {},
   "outputs": [],
   "source": []
  }
 ],
 "metadata": {
  "kernelspec": {
   "display_name": "Python 3.7.4 64-bit ('base': conda)",
   "language": "python",
   "name": "python37464bitbaseconda9b78c6dfe80a4afa82f6f6ebe13c8b01"
  },
  "language_info": {
   "codemirror_mode": {
    "name": "ipython",
    "version": 3
   },
   "file_extension": ".py",
   "mimetype": "text/x-python",
   "name": "python",
   "nbconvert_exporter": "python",
   "pygments_lexer": "ipython3",
   "version": "3.7.6"
  }
 },
 "nbformat": 4,
 "nbformat_minor": 4
}
