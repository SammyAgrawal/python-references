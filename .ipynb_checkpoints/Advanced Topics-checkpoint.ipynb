{
 "cells": [
  {
   "cell_type": "markdown",
   "metadata": {},
   "source": [
    "# List Functions"
   ]
  },
  {
   "cell_type": "markdown",
   "metadata": {},
   "source": [
    "### map: map(func,iter) applies func to each item"
   ]
  },
  {
   "cell_type": "code",
   "execution_count": 2,
   "metadata": {},
   "outputs": [
    {
     "name": "stdout",
     "output_type": "stream",
     "text": [
      "<map object at 0x103846610>\n"
     ]
    },
    {
     "data": {
      "text/plain": [
       "[3, 4, 5, 6, 7]"
      ]
     },
     "execution_count": 2,
     "metadata": {},
     "output_type": "execute_result"
    }
   ],
   "source": [
    "a=map(lambda x:2+x, [1,2,3,4,5])\n",
    "print(a)\n",
    "list(a)"
   ]
  },
  {
   "cell_type": "code",
   "execution_count": 9,
   "metadata": {},
   "outputs": [
    {
     "data": {
      "text/plain": [
       "[['a', 'p', 'p', 'l', 'e'],\n",
       " ['b', 'a', 'n', 'a', 'n', 'a'],\n",
       " ['c', 'u', 'c', 'u', 'm', 'b', 'e', 'r']]"
      ]
     },
     "execution_count": 9,
     "metadata": {},
     "output_type": "execute_result"
    }
   ],
   "source": [
    "stringify = map(list, [\"apple\", 'banana', 'cucumber'])\n",
    "list(stringify)"
   ]
  },
  {
   "cell_type": "markdown",
   "metadata": {},
   "source": [
    "### zip: takes in multiples iter, and makes array of tuples"
   ]
  },
  {
   "cell_type": "code",
   "execution_count": 7,
   "metadata": {},
   "outputs": [
    {
     "data": {
      "text/plain": [
       "[('John', 4, True),\n",
       " ('Adam', 6, False),\n",
       " ('Tutankhamen', 2, False),\n",
       " ('Clint', 7, True)]"
      ]
     },
     "execution_count": 7,
     "metadata": {},
     "output_type": "execute_result"
    }
   ],
   "source": [
    "names=\"John Adam Tutankhamen Clint Bill\".split(' ')\n",
    "salaries = [4,6,2,7,5] # extras chopped, long as smallest link\n",
    "married = [True,False,False,True]\n",
    "a=list(zip(names, salaries, married))\n",
    "a"
   ]
  },
  {
   "cell_type": "code",
   "execution_count": 15,
   "metadata": {},
   "outputs": [
    {
     "name": "stdout",
     "output_type": "stream",
     "text": [
      "1 a\n",
      "2 b\n",
      "3 c\n"
     ]
    }
   ],
   "source": [
    "#combined with tuple unpacking\n",
    "for (a,b) in zip([1,2,3], 'a b c'.split()):\n",
    "    print(a,b)"
   ]
  },
  {
   "cell_type": "code",
   "execution_count": 13,
   "metadata": {},
   "outputs": [
    {
     "data": {
      "text/plain": [
       "[('Henry', 4, True),\n",
       " ('Adam', 6, False),\n",
       " ('Tutankhamen', 2, False),\n",
       " ('Regina', 7, True),\n",
       " ('Klaus', 0, True)]"
      ]
     },
     "execution_count": 13,
     "metadata": {},
     "output_type": "execute_result"
    }
   ],
   "source": [
    "# JAGGED ZIP\n",
    "names2= \"Henry Adam Tutankhamen Regina Klaus jed\".split(' ')\n",
    "salaries = [4,6,2,7,0]\n",
    "married = [True,False,False,True, True]\n",
    "b=zip(names2,salaries,married)\n",
    "list(b) # maps minimun length of all"
   ]
  },
  {
   "cell_type": "markdown",
   "metadata": {},
   "source": [
    "### List Comprehension"
   ]
  },
  {
   "cell_type": "code",
   "execution_count": 2,
   "metadata": {},
   "outputs": [],
   "source": [
    "val_1 = [2*index for index in range(5)]\n",
    "# [0.0, 2.0, 4.0, 6.0, 8.0] \n",
    "val_2 = [2*index + 0.8 for index in range(5)]\n",
    "# [0.8, 2.8, 4.8, 6.8, 8.8]"
   ]
  },
  {
   "cell_type": "code",
   "execution_count": 12,
   "metadata": {},
   "outputs": [
    {
     "data": {
      "text/plain": [
       "[0, 3, 6, 9, 12, 15, 18]"
      ]
     },
     "execution_count": 12,
     "metadata": {},
     "output_type": "execute_result"
    }
   ],
   "source": [
    "[i for i in range(20) if i%3==0]"
   ]
  },
  {
   "cell_type": "code",
   "execution_count": 14,
   "metadata": {},
   "outputs": [
    {
     "name": "stdout",
     "output_type": "stream",
     "text": [
      "0\n",
      "0.8\n",
      "2\n",
      "2.8\n",
      "4\n",
      "4.8\n",
      "6\n",
      "6.8\n",
      "8\n",
      "8.8\n"
     ]
    }
   ],
   "source": []
  },
  {
   "cell_type": "code",
   "execution_count": 17,
   "metadata": {},
   "outputs": [
    {
     "data": {
      "text/plain": [
       "[0.4, 2.4, 4.4, 6.4, 8.4]"
      ]
     },
     "execution_count": 17,
     "metadata": {},
     "output_type": "execute_result"
    }
   ],
   "source": [
    "midpoints = [(a+b)/2 for (a,b) in zip(val_1,val_2)]\n",
    "midpoints"
   ]
  },
  {
   "cell_type": "markdown",
   "metadata": {},
   "source": [
    "### str.join(list) prints list with string in between"
   ]
  },
  {
   "cell_type": "code",
   "execution_count": 10,
   "metadata": {},
   "outputs": [
    {
     "data": {
      "text/plain": [
       "'a *_* b *_* c *_* d *_* e *_* f'"
      ]
     },
     "execution_count": 10,
     "metadata": {},
     "output_type": "execute_result"
    }
   ],
   "source": [
    "'-&'.join(names)\n",
    "' *_* '.join(\"a b c d e f\".split())"
   ]
  },
  {
   "cell_type": "code",
   "execution_count": null,
   "metadata": {},
   "outputs": [],
   "source": []
  }
 ],
 "metadata": {
  "kernelspec": {
   "display_name": "Python 3",
   "language": "python",
   "name": "python3"
  },
  "language_info": {
   "codemirror_mode": {
    "name": "ipython",
    "version": 3
   },
   "file_extension": ".py",
   "mimetype": "text/x-python",
   "name": "python",
   "nbconvert_exporter": "python",
   "pygments_lexer": "ipython3",
   "version": "3.7.4"
  }
 },
 "nbformat": 4,
 "nbformat_minor": 2
}
